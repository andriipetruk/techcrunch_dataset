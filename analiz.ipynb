import requests
import pandas as pd
import math
import datetime
from collections import Counter
import json


DATA_URL = 'https://raw.githubusercontent.com/andriipetruk/techcrunch_dataset/master/news.json'
df = pd.read_json(DATA_URL)


df['time'] = pd.to_datetime(df['time'])
df = df.set_index(['time'])
result = df.groupby([pd.TimeGrouper('24h')]).size()
min = result.min()
max = result.max()
fmod(min, max)
