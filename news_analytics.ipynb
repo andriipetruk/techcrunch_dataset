{
 "cells": [
  {
   "cell_type": "code",
   "execution_count": 75,
   "metadata": {
    "collapsed": false
   },
   "outputs": [
    {
     "data": {
      "text/html": [
       "<div>\n",
       "<table border=\"1\" class=\"dataframe\">\n",
       "  <thead>\n",
       "    <tr style=\"text-align: right;\">\n",
       "      <th></th>\n",
       "      <th>author</th>\n",
       "      <th>tag</th>\n",
       "      <th>time</th>\n",
       "      <th>title</th>\n",
       "    </tr>\n",
       "  </thead>\n",
       "  <tbody>\n",
       "    <tr>\n",
       "      <th>0</th>\n",
       "      <td>Lora Kolodny</td>\n",
       "      <td>None</td>\n",
       "      <td>2017-01-21 03:31:03</td>\n",
       "      <td>Whitehouse.gov petition seeking Trump tax retu...</td>\n",
       "    </tr>\n",
       "    <tr>\n",
       "      <th>1</th>\n",
       "      <td>Brian Heater</td>\n",
       "      <td>Hardware</td>\n",
       "      <td>2017-01-21 03:06:59</td>\n",
       "      <td>Qualcomm fires back against Apple over lawsuit...</td>\n",
       "    </tr>\n",
       "    <tr>\n",
       "      <th>2</th>\n",
       "      <td>Cyrus Radfar</td>\n",
       "      <td>None</td>\n",
       "      <td>2017-01-18 05:30:22</td>\n",
       "      <td>Tyrant in the code</td>\n",
       "    </tr>\n",
       "    <tr>\n",
       "      <th>3</th>\n",
       "      <td>Elias Constantopedos</td>\n",
       "      <td>Virtual Reality</td>\n",
       "      <td>2017-01-21 03:00:26</td>\n",
       "      <td>For dramatic VR to succeed, music must become ...</td>\n",
       "    </tr>\n",
       "    <tr>\n",
       "      <th>4</th>\n",
       "      <td>Emily Calandrelli</td>\n",
       "      <td>Science</td>\n",
       "      <td>2017-01-18 05:15:45</td>\n",
       "      <td>2016 is the new hottest year on record – how N...</td>\n",
       "    </tr>\n",
       "  </tbody>\n",
       "</table>\n",
       "</div>"
      ],
      "text/plain": [
       "                 author              tag                 time  \\\n",
       "0          Lora Kolodny             None  2017-01-21 03:31:03   \n",
       "1          Brian Heater         Hardware  2017-01-21 03:06:59   \n",
       "2          Cyrus Radfar             None  2017-01-18 05:30:22   \n",
       "3  Elias Constantopedos  Virtual Reality  2017-01-21 03:00:26   \n",
       "4     Emily Calandrelli          Science  2017-01-18 05:15:45   \n",
       "\n",
       "                                               title  \n",
       "0  Whitehouse.gov petition seeking Trump tax retu...  \n",
       "1  Qualcomm fires back against Apple over lawsuit...  \n",
       "2                                 Tyrant in the code  \n",
       "3  For dramatic VR to succeed, music must become ...  \n",
       "4  2016 is the new hottest year on record – how N...  "
      ]
     },
     "execution_count": 75,
     "metadata": {},
     "output_type": "execute_result"
    }
   ],
   "source": [
    "# coding=utf-8\n",
    "%matplotlib inline\n",
    "import requests\n",
    "import pandas as pd\n",
    "import math\n",
    "import datetime\n",
    "from collections import Counter\n",
    "import json\n",
    "import pprint\n",
    "import warnings\n",
    "from matplotlib import pyplot as plt\n",
    "\n",
    "# load data from prepared data set news techcrunch.com\n",
    "DATA_URL = 'https://raw.githubusercontent.com/andriipetruk/techcrunch_dataset/master/news.json'\n",
    "df = pd.read_json(DATA_URL)\n",
    "\n",
    "\n",
    "df.head()\n"
   ]
  },
  {
   "cell_type": "code",
   "execution_count": 76,
   "metadata": {
    "collapsed": false
   },
   "outputs": [
    {
     "data": {
      "text/plain": [
       "author    object\n",
       "tag       object\n",
       "time      object\n",
       "title     object\n",
       "dtype: object"
      ]
     },
     "execution_count": 76,
     "metadata": {},
     "output_type": "execute_result"
    }
   ],
   "source": [
    "df.dtypes"
   ]
  },
  {
   "cell_type": "code",
   "execution_count": 77,
   "metadata": {
    "collapsed": false
   },
   "outputs": [
    {
     "data": {
      "text/plain": [
       "<matplotlib.axes._subplots.AxesSubplot at 0x7f47e6563190>"
      ]
     },
     "execution_count": 77,
     "metadata": {},
     "output_type": "execute_result"
    },
    {
     "data": {
      "image/png": "[encoded data removed]",
      "text/plain": [
       "<matplotlib.figure.Figure at 0x7f47e6528610>"
      ]
     },
     "metadata": {},
     "output_type": "display_data"
    }
   ],
   "source": [
    "df['index']=df.index\n",
    "df['time'] = pd.to_datetime(df['time'], format='%Y-%m-%d %H:%M:%S')\n",
    "df = df.set_index(['time'])\n",
    "df.plot()"
   ]
  },
  {
   "cell_type": "code",
   "execution_count": null,
   "metadata": {
    "collapsed": true
   },
   "outputs": [],
   "source": []
  }
 ],
 "metadata": {
  "kernelspec": {
   "display_name": "Python 2",
   "language": "python",
   "name": "python2"
  },
  "language_info": {
   "codemirror_mode": {
    "name": "ipython",
    "version": 2
   },
   "file_extension": ".py",
   "mimetype": "text/x-python",
   "name": "python",
   "nbconvert_exporter": "python",
   "pygments_lexer": "ipython2",
   "version": "2.7.12"
  }
 },
 "nbformat": 4,
 "nbformat_minor": 2
}
